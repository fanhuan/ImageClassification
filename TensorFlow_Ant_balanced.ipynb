{
 "cells": [
  {
   "cell_type": "code",
   "execution_count": 1,
   "metadata": {},
   "outputs": [
    {
     "name": "stderr",
     "output_type": "stream",
     "text": [
      "/opt/anaconda/anaconda3/lib/python3.6/site-packages/sklearn/cross_validation.py:44: DeprecationWarning: This module was deprecated in version 0.18 in favor of the model_selection module into which all the refactored classes and functions are moved. Also note that the interface of the new CV iterators are different from that of this module. This module will be removed in 0.20.\n",
      "  \"This module will be removed in 0.20.\", DeprecationWarning)\n"
     ]
    }
   ],
   "source": [
    "from __future__ import division, print_function, absolute_import\n",
    "\n",
    "from skimage import color, io\n",
    "from scipy.misc import imresize\n",
    "import numpy as np\n",
    "from sklearn.cross_validation import train_test_split\n",
    "import os\n",
    "from glob import glob\n",
    "\n",
    "import tflearn\n",
    "from tflearn.data_utils import shuffle, to_categorical\n",
    "from tflearn.layers.core import input_data, dropout, fully_connected\n",
    "from tflearn.layers.conv import conv_2d, max_pool_2d\n",
    "from tflearn.layers.estimator import regression\n",
    "from tflearn.data_preprocessing import ImagePreprocessing\n",
    "from tflearn.data_augmentation import ImageAugmentation\n",
    "from tflearn.metrics import Accuracy"
   ]
  },
  {
   "cell_type": "code",
   "execution_count": 2,
   "metadata": {},
   "outputs": [
    {
     "name": "stdout",
     "output_type": "stream",
     "text": [
      "36725\n"
     ]
    }
   ],
   "source": [
    "files_path = '/home/hfan/projects/Heidi/train_ant/'\n",
    "\n",
    "yes_files_path = os.path.join(files_path, 'yes_*.png')\n",
    "no_files_path = os.path.join(files_path, 'no_*.png')\n",
    "\n",
    "yes_files = sorted(glob(yes_files_path))\n",
    "no_files = sorted(glob(no_files_path))\n",
    "\n",
    "n_files = len(yes_files) + len(no_files)\n",
    "print(n_files)\n"
   ]
  },
  {
   "cell_type": "markdown",
   "metadata": {},
   "source": [
    "### Getting a balanced and managable dataset"
   ]
  },
  {
   "cell_type": "code",
   "execution_count": 3,
   "metadata": {
    "collapsed": true
   },
   "outputs": [],
   "source": [
    "import random, os \n",
    "\n",
    "each_set = 3672 *2\n",
    "\n",
    "yes_idx = random.sample(range(len(yes_files)),each_set)\n",
    "no_idx = random.sample(range(len(no_files)), each_set)\n"
   ]
  },
  {
   "cell_type": "code",
   "execution_count": 4,
   "metadata": {
    "collapsed": true
   },
   "outputs": [],
   "source": [
    "size_image = 64\n",
    "allX = np.zeros((each_set * 2, size_image, size_image, 3), dtype='float64')\n",
    "ally = np.zeros(each_set * 2)\n",
    "count = 0\n",
    "for idx in yes_idx:\n",
    "    try:\n",
    "        img = io.imread(yes_files[idx])\n",
    "        new_img = imresize(img, (size_image, size_image, 3))\n",
    "        allX[count] = np.array(new_img)\n",
    "        ally[count] = 0\n",
    "        count += 1\n",
    "    except:\n",
    "        continue\n",
    "        \n",
    "for idx in no_idx:\n",
    "    try:\n",
    "        img = io.imread(no_files[idx])\n",
    "        new_img = imresize(img, (size_image, size_image, 3))\n",
    "        allX[count] = np.array(new_img)\n",
    "        ally[count] = 1\n",
    "        count += 1\n",
    "    except:\n",
    "        continue"
   ]
  },
  {
   "cell_type": "code",
   "execution_count": 5,
   "metadata": {
    "collapsed": true
   },
   "outputs": [],
   "source": [
    "# test-train split   \n",
    "X, X_test, Y, Y_test = train_test_split(allX, ally, test_size=0.1, random_state=42)\n",
    "\n",
    "# encode the Ys\n",
    "Y = to_categorical(Y, 2)\n",
    "Y_test = to_categorical(Y_test, 2)"
   ]
  },
  {
   "cell_type": "code",
   "execution_count": 5,
   "metadata": {
    "collapsed": true
   },
   "outputs": [],
   "source": [
    "# normalisation of images\n",
    "img_prep = ImagePreprocessing()\n",
    "img_prep.add_featurewise_zero_center()\n",
    "img_prep.add_featurewise_stdnorm()\n",
    "\n",
    "# Create extra synthetic training data by flipping & rotating images\n",
    "img_aug = ImageAugmentation()\n",
    "img_aug.add_random_flip_leftright()\n",
    "img_aug.add_random_rotation(max_angle=25.)"
   ]
  },
  {
   "cell_type": "code",
   "execution_count": 6,
   "metadata": {},
   "outputs": [],
   "source": [
    "# Input is a 32x32 image with 3 color channels (red, green and blue)\n",
    "network = input_data(shape=[None, 64, 64, 3],\n",
    "                     data_preprocessing=img_prep, \n",
    "                     data_augmentation=img_aug)\n",
    "\n",
    "# 1: Convolution layer with 32 filters, each 3x3x3\n",
    "conv_1 = conv_2d(network, 32, 3, activation='relu', name='conv_1')\n",
    "\n",
    "# 2: Max pooling layer\n",
    "network = max_pool_2d(conv_1, 2)\n",
    "\n",
    "# 3: Convolution layer with 64 filters\n",
    "conv_2 = conv_2d(network, 64, 3, activation='relu', name='conv_2')\n",
    "\n",
    "# 4: Convolution layer with 64 filters\n",
    "conv_3 = conv_2d(conv_2, 64, 3, activation='relu', name='conv_3')\n",
    "\n",
    "# 5: Max pooling layer\n",
    "network = max_pool_2d(conv_3, 2)\n",
    "\n",
    "# 6: Fully-connected 512 node layer\n",
    "network = fully_connected(network, 512, activation='relu')\n",
    "\n",
    "# 7: Dropout layer to combat overfitting\n",
    "network = dropout(network, 0.5)\n",
    "\n",
    "# 8: Fully-connected layer with two outputs\n",
    "network = fully_connected(network, 2, activation='softmax')\n"
   ]
  },
  {
   "cell_type": "code",
   "execution_count": 7,
   "metadata": {
    "collapsed": true
   },
   "outputs": [],
   "source": [
    "# Configure how the network will be trained\n",
    "acc = Accuracy(name=\"Accuracy\")\n",
    "network = regression(network, optimizer='adam',\n",
    "                     loss='categorical_crossentropy',\n",
    "                     learning_rate=0.0005, metric=acc)\n",
    "\n",
    "# Wrap the network in a model object\n",
    "model = tflearn.DNN(network, checkpoint_path='ant_7344.tflearn', max_checkpoints = 3,\n",
    "                    tensorboard_verbose = 3, tensorboard_dir='tmp/tflearn_logs/')\n"
   ]
  },
  {
   "cell_type": "code",
   "execution_count": 9,
   "metadata": {},
   "outputs": [
    {
     "name": "stdout",
     "output_type": "stream",
     "text": [
      "Training Step: 13299  | total loss: \u001b[1m\u001b[32m0.09382\u001b[0m\u001b[0m | time: 158.983s\n",
      "| Adam | epoch: 100 | loss: 0.09382 - Accuracy: 0.9625 -- iter: 13200/13219\n",
      "Training Step: 13300  | total loss: \u001b[1m\u001b[32m0.09898\u001b[0m\u001b[0m | time: 164.226s\n",
      "| Adam | epoch: 100 | loss: 0.09898 - Accuracy: 0.9632 | val_loss: 0.48460 - val_acc: 0.8856 -- iter: 13219/13219\n",
      "--\n"
     ]
    }
   ],
   "source": [
    "###################################\n",
    "# Train model for 10 epochs\n",
    "###################################\n",
    "model.fit(X, Y, validation_set=(X_test, Y_test), batch_size=100,\n",
    "      n_epoch=100, run_id='ant_14688', show_metric=True)\n",
    "\n",
    "model.save('model_sub_ant_20170811_batch100_epoch100_14688pics.tflearn')"
   ]
  },
  {
   "cell_type": "markdown",
   "metadata": {},
   "source": [
    "### Prediction"
   ]
  },
  {
   "cell_type": "code",
   "execution_count": 2,
   "metadata": {
    "collapsed": true
   },
   "outputs": [],
   "source": [
    "yes_file_path = '/home/hfan/projects/Heidi/test_ant/yes*.png'\n",
    "no_file_path = '/home/hfan/projects/Heidi/test_ant/no*.png'\n",
    "\n",
    "yes_file_prd = glob(yes_file_path)\n",
    "no_file_prd = glob(no_file_path)\n",
    "\n",
    "size_image = 64\n",
    "\n",
    "predictYes = np.zeros((len(yes_file_prd), size_image, size_image, 3), dtype='float64')\n",
    "predictNo = np.zeros((len(no_file_prd), size_image, size_image, 3), dtype='float64')\n",
    "\n",
    "count = 0\n",
    "\n",
    "for f in yes_file_prd:\n",
    "    try:\n",
    "        img = io.imread(f)\n",
    "        new_img = imresize(img, (size_image, size_image, 3))\n",
    "        predictYes[count] = np.array(new_img)\n",
    "        count += 1\n",
    "    except:\n",
    "        continue\n",
    "        \n",
    "count = 0\n",
    "for f in no_file_prd:\n",
    "    try:\n",
    "        img = io.imread(f)\n",
    "        new_img = imresize(img, (size_image, size_image, 3))\n",
    "        predictNo[count] = np.array(new_img)\n",
    "        count += 1\n",
    "    except:\n",
    "        continue\n"
   ]
  },
  {
   "cell_type": "code",
   "execution_count": 8,
   "metadata": {},
   "outputs": [
    {
     "name": "stdout",
     "output_type": "stream",
     "text": [
      "INFO:tensorflow:Restoring parameters from /home/hfan/projects/Heidi/model_sub_ant_20170811_batch100_epoch100_14688pics.tflearn\n"
     ]
    }
   ],
   "source": [
    "model.load('model_sub_ant_20170811_batch100_epoch100_14688pics.tflearn')"
   ]
  },
  {
   "cell_type": "code",
   "execution_count": 36,
   "metadata": {},
   "outputs": [],
   "source": [
    "results = model.predict(predictNo[2800:])"
   ]
  },
  {
   "cell_type": "code",
   "execution_count": 37,
   "metadata": {},
   "outputs": [
    {
     "name": "stdout",
     "output_type": "stream",
     "text": [
      "0.896551724137931\n"
     ]
    }
   ],
   "source": [
    "def accuracy(results, truth = 0):\n",
    "    right = 0\n",
    "    wrong = 0\n",
    "    idx = 0\n",
    "    wrong_idx = []\n",
    "    for result in results:\n",
    "        if np.argmax(result) == truth:\n",
    "            right += 1\n",
    "        else:\n",
    "            wrong += 1\n",
    "            wrong_idx.append(idx)\n",
    "        idx += 1\n",
    "    print(right/(right + wrong))\n",
    "    return wrong_idx\n",
    "    \n",
    "wrong_idx = accuracy(results, 1)    "
   ]
  },
  {
   "cell_type": "code",
   "execution_count": 17,
   "metadata": {},
   "outputs": [
    {
     "name": "stdout",
     "output_type": "stream",
     "text": [
      "1250 2829\n"
     ]
    }
   ],
   "source": [
    "print(len(predictYes),len(predictNo))"
   ]
  },
  {
   "cell_type": "code",
   "execution_count": 46,
   "metadata": {},
   "outputs": [
    {
     "name": "stdout",
     "output_type": "stream",
     "text": [
      "/home/hfan/projects/Heidi/test_ant/no_09MAY2016_ants_11_488.png\n",
      "/home/hfan/projects/Heidi/test_ant/no_09MAY2016_ants_64_247.png\n",
      "/home/hfan/projects/Heidi/test_ant/no_09MAY2016_ants_39_147.png\n",
      "/home/hfan/projects/Heidi/test_ant/no_09MAY2016_ants_49_220.png\n",
      "/home/hfan/projects/Heidi/test_ant/no_09MAY2016_ants_19_102.png\n",
      "/home/hfan/projects/Heidi/test_ant/no_09MAY2016_ants_21_496.png\n",
      "/home/hfan/projects/Heidi/test_ant/no_09MAY2016_ants_29_21.png\n",
      "/home/hfan/projects/Heidi/test_ant/no_09MAY2016_ants_65_83.png\n",
      "/home/hfan/projects/Heidi/test_ant/no_09MAY2016_ants_10_509.png\n",
      "/home/hfan/projects/Heidi/test_ant/no_11MAY2016_ants_68_189.png\n",
      "/home/hfan/projects/Heidi/test_ant/no_09MAY2016_ants_20_244.png\n",
      "/home/hfan/projects/Heidi/test_ant/no_09MAY2016_ants_40_84.png\n",
      "/home/hfan/projects/Heidi/test_ant/no_09MAY2016_ants_49_365.png\n",
      "/home/hfan/projects/Heidi/test_ant/no_09MAY2016_ants_39_406.png\n",
      "/home/hfan/projects/Heidi/test_ant/no_09MAY2016_ants_2_254.png\n",
      "/home/hfan/projects/Heidi/test_ant/no_09MAY2016_ants_40_794.png\n",
      "/home/hfan/projects/Heidi/test_ant/no_11MAY2016_ants_50_383.png\n",
      "/home/hfan/projects/Heidi/test_ant/no_09MAY2016_ants_37_519.png\n",
      "/home/hfan/projects/Heidi/test_ant/no_09MAY2016_ants_56_118.png\n",
      "/home/hfan/projects/Heidi/test_ant/no_09MAY2016_ants_3_789.png\n",
      "/home/hfan/projects/Heidi/test_ant/no_09MAY2016_ants_12_347.png\n",
      "/home/hfan/projects/Heidi/test_ant/no_11MAY2016_ants_42_35.png\n",
      "/home/hfan/projects/Heidi/test_ant/no_09MAY2016_ants_73_170.png\n",
      "/home/hfan/projects/Heidi/test_ant/no_11MAY2016_ants_75_362.png\n",
      "/home/hfan/projects/Heidi/test_ant/no_09MAY2016_ants_13_244.png\n",
      "/home/hfan/projects/Heidi/test_ant/no_11MAY2016_ants_50_55.png\n",
      "/home/hfan/projects/Heidi/test_ant/no_09MAY2016_ants_10_473.png\n",
      "/home/hfan/projects/Heidi/test_ant/no_09MAY2016_ants_10_597.png\n",
      "/home/hfan/projects/Heidi/test_ant/no_09MAY2016_ants_1_133.png\n",
      "/home/hfan/projects/Heidi/test_ant/no_11MAY2016_ants_14_198.png\n",
      "/home/hfan/projects/Heidi/test_ant/no_11MAY2016_ants_75_355.png\n",
      "/home/hfan/projects/Heidi/test_ant/no_11MAY2016_ants_14_501.png\n",
      "/home/hfan/projects/Heidi/test_ant/no_09MAY2016_ants_40_58.png\n",
      "/home/hfan/projects/Heidi/test_ant/no_11MAY2016_ants_32_127.png\n",
      "/home/hfan/projects/Heidi/test_ant/no_09MAY2016_ants_10_544.png\n",
      "/home/hfan/projects/Heidi/test_ant/no_09MAY2016_ants_39_215.png\n",
      "/home/hfan/projects/Heidi/test_ant/no_09MAY2016_ants_47_111.png\n",
      "/home/hfan/projects/Heidi/test_ant/no_09MAY2016_ants_56_721.png\n",
      "/home/hfan/projects/Heidi/test_ant/no_09MAY2016_ants_49_553.png\n",
      "/home/hfan/projects/Heidi/test_ant/no_09MAY2016_ants_49_361.png\n",
      "/home/hfan/projects/Heidi/test_ant/no_11MAY2016_ants_77_121.png\n",
      "/home/hfan/projects/Heidi/test_ant/no_09MAY2016_ants_21_200.png\n",
      "/home/hfan/projects/Heidi/test_ant/no_09MAY2016_ants_46_430.png\n",
      "/home/hfan/projects/Heidi/test_ant/no_11MAY2016_ants_77_120.png\n",
      "/home/hfan/projects/Heidi/test_ant/no_11MAY2016_ants_41_552.png\n",
      "/home/hfan/projects/Heidi/test_ant/no_09MAY2016_ants_47_217.png\n",
      "/home/hfan/projects/Heidi/test_ant/no_09MAY2016_ants_10_172.png\n",
      "/home/hfan/projects/Heidi/test_ant/no_11MAY2016_ants_76_380.png\n",
      "/home/hfan/projects/Heidi/test_ant/no_09MAY2016_ants_10_470.png\n",
      "/home/hfan/projects/Heidi/test_ant/no_09MAY2016_ants_29_553.png\n",
      "/home/hfan/projects/Heidi/test_ant/no_11MAY2016_ants_50_106.png\n",
      "/home/hfan/projects/Heidi/test_ant/no_09MAY2016_ants_11_134.png\n",
      "/home/hfan/projects/Heidi/test_ant/no_11MAY2016_ants_75_756.png\n",
      "/home/hfan/projects/Heidi/test_ant/no_09MAY2016_ants_29_312.png\n",
      "/home/hfan/projects/Heidi/test_ant/no_09MAY2016_ants_28_253.png\n",
      "/home/hfan/projects/Heidi/test_ant/no_09MAY2016_ants_73_7.png\n",
      "/home/hfan/projects/Heidi/test_ant/no_09MAY2016_ants_58_462.png\n",
      "/home/hfan/projects/Heidi/test_ant/no_09MAY2016_ants_46_19.png\n",
      "/home/hfan/projects/Heidi/test_ant/no_09MAY2016_ants_39_812.png\n",
      "/home/hfan/projects/Heidi/test_ant/no_09MAY2016_ants_28_121.png\n",
      "/home/hfan/projects/Heidi/test_ant/no_11MAY2016_ants_22_253.png\n",
      "/home/hfan/projects/Heidi/test_ant/no_09MAY2016_ants_40_1052.png\n",
      "/home/hfan/projects/Heidi/test_ant/no_11MAY2016_ants_14_503.png\n",
      "/home/hfan/projects/Heidi/test_ant/no_09MAY2016_ants_37_111.png\n",
      "/home/hfan/projects/Heidi/test_ant/no_11MAY2016_ants_14_695.png\n",
      "/home/hfan/projects/Heidi/test_ant/no_11MAY2016_ants_76_338.png\n",
      "/home/hfan/projects/Heidi/test_ant/no_11MAY2016_ants_67_93.png\n",
      "/home/hfan/projects/Heidi/test_ant/no_09MAY2016_ants_46_528.png\n",
      "/home/hfan/projects/Heidi/test_ant/no_09MAY2016_ants_46_10.png\n",
      "/home/hfan/projects/Heidi/test_ant/no_09MAY2016_ants_11_238.png\n",
      "/home/hfan/projects/Heidi/test_ant/no_09MAY2016_ants_37_726.png\n",
      "/home/hfan/projects/Heidi/test_ant/no_11MAY2016_ants_14_319.png\n",
      "/home/hfan/projects/Heidi/test_ant/no_09MAY2016_ants_39_79.png\n",
      "/home/hfan/projects/Heidi/test_ant/no_11MAY2016_ants_14_76.png\n",
      "/home/hfan/projects/Heidi/test_ant/no_09MAY2016_ants_29_1174.png\n",
      "/home/hfan/projects/Heidi/test_ant/no_11MAY2016_ants_14_438.png\n",
      "/home/hfan/projects/Heidi/test_ant/no_11MAY2016_ants_32_136.png\n",
      "/home/hfan/projects/Heidi/test_ant/no_09MAY2016_ants_58_6.png\n",
      "/home/hfan/projects/Heidi/test_ant/no_09MAY2016_ants_19_351.png\n",
      "/home/hfan/projects/Heidi/test_ant/no_09MAY2016_ants_10_978.png\n",
      "/home/hfan/projects/Heidi/test_ant/no_11MAY2016_ants_32_98.png\n",
      "/home/hfan/projects/Heidi/test_ant/no_09MAY2016_ants_11_176.png\n",
      "/home/hfan/projects/Heidi/test_ant/no_09MAY2016_ants_73_693.png\n",
      "/home/hfan/projects/Heidi/test_ant/no_09MAY2016_ants_47_408.png\n",
      "/home/hfan/projects/Heidi/test_ant/no_11MAY2016_ants_41_101.png\n",
      "/home/hfan/projects/Heidi/test_ant/no_11MAY2016_ants_32_180.png\n",
      "/home/hfan/projects/Heidi/test_ant/no_09MAY2016_ants_30_238.png\n",
      "/home/hfan/projects/Heidi/test_ant/no_11MAY2016_ants_5_38.png\n",
      "/home/hfan/projects/Heidi/test_ant/no_09MAY2016_ants_30_499.png\n",
      "/home/hfan/projects/Heidi/test_ant/no_11MAY2016_ants_50_507.png\n",
      "/home/hfan/projects/Heidi/test_ant/no_09MAY2016_ants_2_46.png\n",
      "/home/hfan/projects/Heidi/test_ant/no_11MAY2016_ants_22_107.png\n",
      "/home/hfan/projects/Heidi/test_ant/no_09MAY2016_ants_58_873.png\n",
      "/home/hfan/projects/Heidi/test_ant/no_11MAY2016_ants_15_90.png\n",
      "/home/hfan/projects/Heidi/test_ant/no_09MAY2016_ants_11_322.png\n",
      "/home/hfan/projects/Heidi/test_ant/no_09MAY2016_ants_12_503.png\n",
      "/home/hfan/projects/Heidi/test_ant/no_09MAY2016_ants_73_399.png\n",
      "/home/hfan/projects/Heidi/test_ant/no_09MAY2016_ants_11_502.png\n",
      "/home/hfan/projects/Heidi/test_ant/no_11MAY2016_ants_78_65.png\n",
      "/home/hfan/projects/Heidi/test_ant/no_11MAY2016_ants_5_516.png\n",
      "/home/hfan/projects/Heidi/test_ant/no_09MAY2016_ants_48_526.png\n",
      "/home/hfan/projects/Heidi/test_ant/no_09MAY2016_ants_29_97.png\n",
      "/home/hfan/projects/Heidi/test_ant/no_09MAY2016_ants_58_496.png\n",
      "/home/hfan/projects/Heidi/test_ant/no_09MAY2016_ants_37_330.png\n",
      "/home/hfan/projects/Heidi/test_ant/no_09MAY2016_ants_12_451.png\n",
      "/home/hfan/projects/Heidi/test_ant/no_11MAY2016_ants_42_58.png\n",
      "/home/hfan/projects/Heidi/test_ant/no_09MAY2016_ants_57_144.png\n",
      "/home/hfan/projects/Heidi/test_ant/no_11MAY2016_ants_14_191.png\n",
      "/home/hfan/projects/Heidi/test_ant/no_09MAY2016_ants_55_233.png\n",
      "/home/hfan/projects/Heidi/test_ant/no_09MAY2016_ants_11_271.png\n",
      "/home/hfan/projects/Heidi/test_ant/no_09MAY2016_ants_55_614.png\n",
      "/home/hfan/projects/Heidi/test_ant/no_11MAY2016_ants_67_232.png\n",
      "/home/hfan/projects/Heidi/test_ant/no_09MAY2016_ants_47_613.png\n",
      "/home/hfan/projects/Heidi/test_ant/no_11MAY2016_ants_51_78.png\n",
      "/home/hfan/projects/Heidi/test_ant/no_09MAY2016_ants_29_600.png\n",
      "/home/hfan/projects/Heidi/test_ant/no_11MAY2016_ants_5_396.png\n",
      "/home/hfan/projects/Heidi/test_ant/no_09MAY2016_ants_55_515.png\n",
      "/home/hfan/projects/Heidi/test_ant/no_09MAY2016_ants_65_316.png\n",
      "/home/hfan/projects/Heidi/test_ant/no_09MAY2016_ants_12_399.png\n",
      "/home/hfan/projects/Heidi/test_ant/no_11MAY2016_ants_24_7.png\n",
      "/home/hfan/projects/Heidi/test_ant/no_09MAY2016_ants_65_341.png\n",
      "/home/hfan/projects/Heidi/test_ant/no_09MAY2016_ants_58_1090.png\n",
      "/home/hfan/projects/Heidi/test_ant/no_09MAY2016_ants_65_199.png\n",
      "/home/hfan/projects/Heidi/test_ant/no_09MAY2016_ants_10_797.png\n",
      "/home/hfan/projects/Heidi/test_ant/no_09MAY2016_ants_47_645.png\n",
      "/home/hfan/projects/Heidi/test_ant/no_09MAY2016_ants_37_302.png\n",
      "/home/hfan/projects/Heidi/test_ant/no_09MAY2016_ants_21_62.png\n",
      "/home/hfan/projects/Heidi/test_ant/no_09MAY2016_ants_40_981.png\n",
      "/home/hfan/projects/Heidi/test_ant/no_11MAY2016_ants_67_79.png\n",
      "/home/hfan/projects/Heidi/test_ant/no_09MAY2016_ants_55_69.png\n",
      "/home/hfan/projects/Heidi/test_ant/no_09MAY2016_ants_56_504.png\n",
      "/home/hfan/projects/Heidi/test_ant/no_09MAY2016_ants_1_591.png\n",
      "/home/hfan/projects/Heidi/test_ant/no_11MAY2016_ants_68_184.png\n",
      "/home/hfan/projects/Heidi/test_ant/no_09MAY2016_ants_58_338.png\n",
      "/home/hfan/projects/Heidi/test_ant/no_09MAY2016_ants_10_684.png\n",
      "/home/hfan/projects/Heidi/test_ant/no_09MAY2016_ants_10_907.png\n",
      "/home/hfan/projects/Heidi/test_ant/no_09MAY2016_ants_20_194.png\n",
      "/home/hfan/projects/Heidi/test_ant/no_09MAY2016_ants_40_632.png\n",
      "/home/hfan/projects/Heidi/test_ant/no_09MAY2016_ants_1_389.png\n",
      "/home/hfan/projects/Heidi/test_ant/no_09MAY2016_ants_19_149.png\n",
      "/home/hfan/projects/Heidi/test_ant/no_09MAY2016_ants_29_473.png\n",
      "/home/hfan/projects/Heidi/test_ant/no_11MAY2016_ants_14_674.png\n",
      "/home/hfan/projects/Heidi/test_ant/no_09MAY2016_ants_73_642.png\n",
      "/home/hfan/projects/Heidi/test_ant/no_11MAY2016_ants_15_312.png\n",
      "/home/hfan/projects/Heidi/test_ant/no_09MAY2016_ants_65_255.png\n",
      "/home/hfan/projects/Heidi/test_ant/no_09MAY2016_ants_56_511.png\n",
      "/home/hfan/projects/Heidi/test_ant/no_11MAY2016_ants_5_40.png\n",
      "/home/hfan/projects/Heidi/test_ant/no_11MAY2016_ants_77_20.png\n",
      "/home/hfan/projects/Heidi/test_ant/no_11MAY2016_ants_14_650.png\n",
      "/home/hfan/projects/Heidi/test_ant/no_09MAY2016_ants_2_456.png\n",
      "/home/hfan/projects/Heidi/test_ant/no_09MAY2016_ants_1_97.png\n",
      "/home/hfan/projects/Heidi/test_ant/no_09MAY2016_ants_73_564.png\n",
      "/home/hfan/projects/Heidi/test_ant/no_09MAY2016_ants_37_637.png\n",
      "/home/hfan/projects/Heidi/test_ant/no_09MAY2016_ants_20_55.png\n",
      "/home/hfan/projects/Heidi/test_ant/no_09MAY2016_ants_12_489.png\n",
      "/home/hfan/projects/Heidi/test_ant/no_09MAY2016_ants_1_405.png\n",
      "/home/hfan/projects/Heidi/test_ant/no_09MAY2016_ants_47_579.png\n",
      "/home/hfan/projects/Heidi/test_ant/no_09MAY2016_ants_55_32.png\n",
      "/home/hfan/projects/Heidi/test_ant/no_09MAY2016_ants_29_809.png\n",
      "/home/hfan/projects/Heidi/test_ant/no_09MAY2016_ants_37_743.png\n",
      "/home/hfan/projects/Heidi/test_ant/no_09MAY2016_ants_1_284.png\n",
      "/home/hfan/projects/Heidi/test_ant/no_11MAY2016_ants_14_136.png\n",
      "/home/hfan/projects/Heidi/test_ant/no_09MAY2016_ants_30_40.png\n",
      "/home/hfan/projects/Heidi/test_ant/no_09MAY2016_ants_1_419.png\n",
      "/home/hfan/projects/Heidi/test_ant/no_11MAY2016_ants_76_289.png\n",
      "/home/hfan/projects/Heidi/test_ant/no_11MAY2016_ants_41_63.png\n",
      "/home/hfan/projects/Heidi/test_ant/no_11MAY2016_ants_15_310.png\n",
      "/home/hfan/projects/Heidi/test_ant/no_11MAY2016_ants_69_23.png\n",
      "/home/hfan/projects/Heidi/test_ant/no_09MAY2016_ants_28_313.png\n",
      "/home/hfan/projects/Heidi/test_ant/no_09MAY2016_ants_38_495.png\n",
      "/home/hfan/projects/Heidi/test_ant/no_09MAY2016_ants_11_160.png\n",
      "/home/hfan/projects/Heidi/test_ant/no_09MAY2016_ants_12_6.png\n",
      "/home/hfan/projects/Heidi/test_ant/no_09MAY2016_ants_64_25.png\n",
      "/home/hfan/projects/Heidi/test_ant/no_11MAY2016_ants_15_50.png\n",
      "/home/hfan/projects/Heidi/test_ant/no_11MAY2016_ants_67_702.png\n",
      "/home/hfan/projects/Heidi/test_ant/no_09MAY2016_ants_64_392.png\n",
      "/home/hfan/projects/Heidi/test_ant/no_09MAY2016_ants_39_725.png\n",
      "/home/hfan/projects/Heidi/test_ant/no_09MAY2016_ants_58_1016.png\n",
      "/home/hfan/projects/Heidi/test_ant/no_11MAY2016_ants_75_267.png\n",
      "/home/hfan/projects/Heidi/test_ant/no_09MAY2016_ants_3_893.png\n",
      "/home/hfan/projects/Heidi/test_ant/no_09MAY2016_ants_1_137.png\n",
      "/home/hfan/projects/Heidi/test_ant/no_09MAY2016_ants_46_318.png\n",
      "/home/hfan/projects/Heidi/test_ant/no_11MAY2016_ants_22_254.png\n",
      "/home/hfan/projects/Heidi/test_ant/no_11MAY2016_ants_67_618.png\n",
      "/home/hfan/projects/Heidi/test_ant/no_11MAY2016_ants_68_46.png\n",
      "/home/hfan/projects/Heidi/test_ant/no_09MAY2016_ants_19_107.png\n",
      "/home/hfan/projects/Heidi/test_ant/no_09MAY2016_ants_1_587.png\n",
      "/home/hfan/projects/Heidi/test_ant/no_09MAY2016_ants_55_401.png\n",
      "/home/hfan/projects/Heidi/test_ant/no_09MAY2016_ants_3_27.png\n",
      "/home/hfan/projects/Heidi/test_ant/no_11MAY2016_ants_67_248.png\n",
      "/home/hfan/projects/Heidi/test_ant/no_09MAY2016_ants_3_989.png\n",
      "/home/hfan/projects/Heidi/test_ant/no_09MAY2016_ants_47_132.png\n",
      "/home/hfan/projects/Heidi/test_ant/no_11MAY2016_ants_5_446.png\n",
      "/home/hfan/projects/Heidi/test_ant/no_09MAY2016_ants_1_201.png\n",
      "/home/hfan/projects/Heidi/test_ant/no_09MAY2016_ants_21_192.png\n",
      "/home/hfan/projects/Heidi/test_ant/no_09MAY2016_ants_1_28.png\n",
      "/home/hfan/projects/Heidi/test_ant/no_09MAY2016_ants_47_391.png\n",
      "/home/hfan/projects/Heidi/test_ant/no_09MAY2016_ants_10_982.png\n",
      "/home/hfan/projects/Heidi/test_ant/no_09MAY2016_ants_19_457.png\n",
      "/home/hfan/projects/Heidi/test_ant/no_09MAY2016_ants_1_608.png\n",
      "/home/hfan/projects/Heidi/test_ant/no_11MAY2016_ants_14_375.png\n",
      "/home/hfan/projects/Heidi/test_ant/no_09MAY2016_ants_39_391.png\n",
      "/home/hfan/projects/Heidi/test_ant/no_11MAY2016_ants_31_233.png\n",
      "/home/hfan/projects/Heidi/test_ant/no_09MAY2016_ants_19_178.png\n",
      "/home/hfan/projects/Heidi/test_ant/no_09MAY2016_ants_3_571.png\n",
      "/home/hfan/projects/Heidi/test_ant/no_09MAY2016_ants_29_404.png\n",
      "/home/hfan/projects/Heidi/test_ant/no_09MAY2016_ants_48_327.png\n",
      "/home/hfan/projects/Heidi/test_ant/no_11MAY2016_ants_75_174.png\n",
      "/home/hfan/projects/Heidi/test_ant/no_09MAY2016_ants_73_603.png\n",
      "/home/hfan/projects/Heidi/test_ant/no_09MAY2016_ants_40_1099.png\n",
      "/home/hfan/projects/Heidi/test_ant/no_11MAY2016_ants_41_514.png\n",
      "/home/hfan/projects/Heidi/test_ant/no_09MAY2016_ants_46_511.png\n",
      "/home/hfan/projects/Heidi/test_ant/no_09MAY2016_ants_28_255.png\n",
      "/home/hfan/projects/Heidi/test_ant/no_11MAY2016_ants_5_8.png\n",
      "/home/hfan/projects/Heidi/test_ant/no_09MAY2016_ants_12_638.png\n",
      "/home/hfan/projects/Heidi/test_ant/no_09MAY2016_ants_58_386.png\n",
      "/home/hfan/projects/Heidi/test_ant/no_11MAY2016_ants_41_67.png\n",
      "/home/hfan/projects/Heidi/test_ant/no_09MAY2016_ants_58_780.png\n",
      "/home/hfan/projects/Heidi/test_ant/no_09MAY2016_ants_39_440.png\n",
      "/home/hfan/projects/Heidi/test_ant/no_09MAY2016_ants_2_562.png\n",
      "/home/hfan/projects/Heidi/test_ant/no_09MAY2016_ants_10_49.png\n",
      "/home/hfan/projects/Heidi/test_ant/no_09MAY2016_ants_58_946.png\n",
      "/home/hfan/projects/Heidi/test_ant/no_09MAY2016_ants_19_227.png\n",
      "/home/hfan/projects/Heidi/test_ant/no_09MAY2016_ants_19_361.png\n",
      "/home/hfan/projects/Heidi/test_ant/no_09MAY2016_ants_20_170.png\n",
      "/home/hfan/projects/Heidi/test_ant/no_11MAY2016_ants_15_117.png\n",
      "/home/hfan/projects/Heidi/test_ant/no_09MAY2016_ants_56_362.png\n",
      "/home/hfan/projects/Heidi/test_ant/no_09MAY2016_ants_21_320.png\n",
      "/home/hfan/projects/Heidi/test_ant/no_09MAY2016_ants_38_180.png\n",
      "/home/hfan/projects/Heidi/test_ant/no_09MAY2016_ants_55_192.png\n",
      "/home/hfan/projects/Heidi/test_ant/no_09MAY2016_ants_56_43.png\n",
      "/home/hfan/projects/Heidi/test_ant/no_09MAY2016_ants_37_223.png\n",
      "/home/hfan/projects/Heidi/test_ant/no_09MAY2016_ants_37_537.png\n",
      "/home/hfan/projects/Heidi/test_ant/no_09MAY2016_ants_29_531.png\n",
      "/home/hfan/projects/Heidi/test_ant/no_09MAY2016_ants_21_143.png\n",
      "/home/hfan/projects/Heidi/test_ant/no_09MAY2016_ants_73_777.png\n",
      "/home/hfan/projects/Heidi/test_ant/no_09MAY2016_ants_37_410.png\n",
      "/home/hfan/projects/Heidi/test_ant/no_09MAY2016_ants_39_258.png\n",
      "/home/hfan/projects/Heidi/test_ant/no_09MAY2016_ants_29_894.png\n",
      "/home/hfan/projects/Heidi/test_ant/no_09MAY2016_ants_73_544.png\n",
      "/home/hfan/projects/Heidi/test_ant/no_09MAY2016_ants_13_274.png\n",
      "/home/hfan/projects/Heidi/test_ant/no_11MAY2016_ants_41_161.png\n",
      "/home/hfan/projects/Heidi/test_ant/no_09MAY2016_ants_40_618.png\n",
      "/home/hfan/projects/Heidi/test_ant/no_09MAY2016_ants_3_521.png\n",
      "/home/hfan/projects/Heidi/test_ant/no_09MAY2016_ants_12_608.png\n",
      "/home/hfan/projects/Heidi/test_ant/no_11MAY2016_ants_67_366.png\n",
      "/home/hfan/projects/Heidi/test_ant/no_11MAY2016_ants_33_265.png\n",
      "/home/hfan/projects/Heidi/test_ant/no_09MAY2016_ants_12_42.png\n",
      "/home/hfan/projects/Heidi/test_ant/no_09MAY2016_ants_3_484.png\n",
      "/home/hfan/projects/Heidi/test_ant/no_11MAY2016_ants_67_292.png\n",
      "/home/hfan/projects/Heidi/test_ant/no_09MAY2016_ants_10_165.png\n",
      "/home/hfan/projects/Heidi/test_ant/no_11MAY2016_ants_41_370.png\n",
      "/home/hfan/projects/Heidi/test_ant/no_11MAY2016_ants_32_71.png\n",
      "/home/hfan/projects/Heidi/test_ant/no_09MAY2016_ants_10_453.png\n",
      "/home/hfan/projects/Heidi/test_ant/no_09MAY2016_ants_65_9.png\n",
      "/home/hfan/projects/Heidi/test_ant/no_09MAY2016_ants_49_724.png\n",
      "/home/hfan/projects/Heidi/test_ant/no_09MAY2016_ants_57_157.png\n",
      "/home/hfan/projects/Heidi/test_ant/no_09MAY2016_ants_56_639.png\n",
      "/home/hfan/projects/Heidi/test_ant/no_09MAY2016_ants_10_386.png\n",
      "/home/hfan/projects/Heidi/test_ant/no_09MAY2016_ants_11_56.png\n",
      "/home/hfan/projects/Heidi/test_ant/no_09MAY2016_ants_65_134.png\n",
      "/home/hfan/projects/Heidi/test_ant/no_09MAY2016_ants_28_339.png\n",
      "/home/hfan/projects/Heidi/test_ant/no_09MAY2016_ants_28_262.png\n",
      "/home/hfan/projects/Heidi/test_ant/no_09MAY2016_ants_40_412.png\n",
      "/home/hfan/projects/Heidi/test_ant/no_09MAY2016_ants_29_465.png\n",
      "/home/hfan/projects/Heidi/test_ant/no_09MAY2016_ants_64_195.png\n",
      "/home/hfan/projects/Heidi/test_ant/no_09MAY2016_ants_56_310.png\n",
      "/home/hfan/projects/Heidi/test_ant/no_09MAY2016_ants_47_36.png\n",
      "/home/hfan/projects/Heidi/test_ant/no_09MAY2016_ants_10_59.png\n",
      "/home/hfan/projects/Heidi/test_ant/no_09MAY2016_ants_58_461.png\n",
      "/home/hfan/projects/Heidi/test_ant/no_09MAY2016_ants_56_689.png\n",
      "/home/hfan/projects/Heidi/test_ant/no_11MAY2016_ants_5_387.png\n",
      "/home/hfan/projects/Heidi/test_ant/no_09MAY2016_ants_57_114.png\n",
      "/home/hfan/projects/Heidi/test_ant/no_11MAY2016_ants_31_10.png\n",
      "/home/hfan/projects/Heidi/test_ant/no_11MAY2016_ants_75_600.png\n",
      "/home/hfan/projects/Heidi/test_ant/no_09MAY2016_ants_47_486.png\n",
      "/home/hfan/projects/Heidi/test_ant/no_09MAY2016_ants_40_386.png\n",
      "/home/hfan/projects/Heidi/test_ant/no_09MAY2016_ants_38_255.png\n",
      "/home/hfan/projects/Heidi/test_ant/no_11MAY2016_ants_50_70.png\n",
      "/home/hfan/projects/Heidi/test_ant/no_09MAY2016_ants_38_309.png\n",
      "/home/hfan/projects/Heidi/test_ant/no_09MAY2016_ants_56_244.png\n",
      "/home/hfan/projects/Heidi/test_ant/no_09MAY2016_ants_28_249.png\n",
      "/home/hfan/projects/Heidi/test_ant/no_11MAY2016_ants_22_325.png\n",
      "/home/hfan/projects/Heidi/test_ant/no_11MAY2016_ants_76_66.png\n",
      "/home/hfan/projects/Heidi/test_ant/no_09MAY2016_ants_28_63.png\n",
      "/home/hfan/projects/Heidi/test_ant/no_11MAY2016_ants_75_250.png\n",
      "/home/hfan/projects/Heidi/test_ant/no_09MAY2016_ants_29_241.png\n",
      "/home/hfan/projects/Heidi/test_ant/no_09MAY2016_ants_56_332.png\n",
      "/home/hfan/projects/Heidi/test_ant/no_11MAY2016_ants_67_369.png\n",
      "/home/hfan/projects/Heidi/test_ant/no_11MAY2016_ants_67_82.png\n",
      "/home/hfan/projects/Heidi/test_ant/no_09MAY2016_ants_10_1004.png\n",
      "/home/hfan/projects/Heidi/test_ant/no_11MAY2016_ants_50_196.png\n",
      "/home/hfan/projects/Heidi/test_ant/no_09MAY2016_ants_47_514.png\n",
      "/home/hfan/projects/Heidi/test_ant/no_11MAY2016_ants_14_590.png\n",
      "/home/hfan/projects/Heidi/test_ant/no_09MAY2016_ants_58_333.png\n",
      "/home/hfan/projects/Heidi/test_ant/no_09MAY2016_ants_19_265.png\n",
      "/home/hfan/projects/Heidi/test_ant/no_09MAY2016_ants_49_664.png\n",
      "/home/hfan/projects/Heidi/test_ant/no_09MAY2016_ants_3_317.png\n",
      "/home/hfan/projects/Heidi/test_ant/no_09MAY2016_ants_37_641.png\n",
      "/home/hfan/projects/Heidi/test_ant/no_09MAY2016_ants_10_652.png\n",
      "/home/hfan/projects/Heidi/test_ant/no_09MAY2016_ants_19_596.png\n",
      "/home/hfan/projects/Heidi/test_ant/no_09MAY2016_ants_39_1131.png\n",
      "/home/hfan/projects/Heidi/test_ant/no_09MAY2016_ants_48_81.png\n",
      "/home/hfan/projects/Heidi/test_ant/no_09MAY2016_ants_29_1102.png\n",
      "/home/hfan/projects/Heidi/test_ant/no_09MAY2016_ants_64_354.png\n",
      "/home/hfan/projects/Heidi/test_ant/no_09MAY2016_ants_39_519.png\n",
      "/home/hfan/projects/Heidi/test_ant/no_09MAY2016_ants_10_68.png\n",
      "/home/hfan/projects/Heidi/test_ant/no_11MAY2016_ants_68_65.png\n",
      "/home/hfan/projects/Heidi/test_ant/no_09MAY2016_ants_46_560.png\n",
      "/home/hfan/projects/Heidi/test_ant/no_11MAY2016_ants_41_250.png\n",
      "/home/hfan/projects/Heidi/test_ant/no_09MAY2016_ants_58_594.png\n",
      "/home/hfan/projects/Heidi/test_ant/no_11MAY2016_ants_75_103.png\n",
      "/home/hfan/projects/Heidi/test_ant/no_09MAY2016_ants_12_513.png\n",
      "/home/hfan/projects/Heidi/test_ant/no_09MAY2016_ants_46_118.png\n",
      "/home/hfan/projects/Heidi/test_ant/no_09MAY2016_ants_48_21.png\n",
      "/home/hfan/projects/Heidi/test_ant/no_09MAY2016_ants_58_961.png\n",
      "/home/hfan/projects/Heidi/test_ant/no_09MAY2016_ants_20_141.png\n",
      "/home/hfan/projects/Heidi/test_ant/no_09MAY2016_ants_37_659.png\n",
      "/home/hfan/projects/Heidi/test_ant/no_09MAY2016_ants_38_122.png\n",
      "/home/hfan/projects/Heidi/test_ant/no_09MAY2016_ants_11_169.png\n",
      "/home/hfan/projects/Heidi/test_ant/no_09MAY2016_ants_73_485.png\n",
      "/home/hfan/projects/Heidi/test_ant/no_09MAY2016_ants_47_648.png\n",
      "/home/hfan/projects/Heidi/test_ant/no_09MAY2016_ants_20_13.png\n",
      "/home/hfan/projects/Heidi/test_ant/no_11MAY2016_ants_14_180.png\n",
      "/home/hfan/projects/Heidi/test_ant/no_11MAY2016_ants_50_352.png\n",
      "/home/hfan/projects/Heidi/test_ant/no_11MAY2016_ants_15_64.png\n",
      "/home/hfan/projects/Heidi/test_ant/no_09MAY2016_ants_29_461.png\n",
      "/home/hfan/projects/Heidi/test_ant/no_09MAY2016_ants_11_40.png\n",
      "/home/hfan/projects/Heidi/test_ant/no_09MAY2016_ants_40_361.png\n"
     ]
    }
   ],
   "source": [
    "for idx in wrong_idx:\n",
    "    print(no_files[idx])"
   ]
  },
  {
   "cell_type": "code",
   "execution_count": null,
   "metadata": {
    "collapsed": true
   },
   "outputs": [],
   "source": []
  },
  {
   "cell_type": "code",
   "execution_count": 23,
   "metadata": {},
   "outputs": [
    {
     "name": "stdout",
     "output_type": "stream",
     "text": [
      "0\n"
     ]
    }
   ],
   "source": [
    "print(np.argmax(results[0]))"
   ]
  },
  {
   "cell_type": "code",
   "execution_count": 24,
   "metadata": {},
   "outputs": [
    {
     "name": "stdout",
     "output_type": "stream",
     "text": [
      "0.529458\n"
     ]
    }
   ],
   "source": [
    "print(np.amax(results[0]))"
   ]
  },
  {
   "cell_type": "code",
   "execution_count": null,
   "metadata": {
    "collapsed": true
   },
   "outputs": [],
   "source": []
  }
 ],
 "metadata": {
  "kernelspec": {
   "display_name": "Python 3",
   "language": "python",
   "name": "python3"
  },
  "language_info": {
   "codemirror_mode": {
    "name": "ipython",
    "version": 3
   },
   "file_extension": ".py",
   "mimetype": "text/x-python",
   "name": "python",
   "nbconvert_exporter": "python",
   "pygments_lexer": "ipython3",
   "version": "3.6.1"
  }
 },
 "nbformat": 4,
 "nbformat_minor": 2
}
